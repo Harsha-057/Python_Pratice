{
  "nbformat": 4,
  "nbformat_minor": 0,
  "metadata": {
    "colab": {
      "name": "List",
      "provenance": [],
      "authorship_tag": "ABX9TyO+YclTBpslIzicD5JHsPUy",
      "include_colab_link": true
    },
    "kernelspec": {
      "name": "python3",
      "display_name": "Python 3"
    },
    "language_info": {
      "name": "python"
    }
  },
  "cells": [
    {
      "cell_type": "markdown",
      "metadata": {
        "id": "view-in-github",
        "colab_type": "text"
      },
      "source": [
        "<a href=\"https://colab.research.google.com/github/Harsha-057/Python_Pratice/blob/lists/List.ipynb\" target=\"_parent\"><img src=\"https://colab.research.google.com/assets/colab-badge.svg\" alt=\"Open In Colab\"/></a>"
      ]
    },
    {
      "cell_type": "markdown",
      "source": [
        "**Lists** "
      ],
      "metadata": {
        "id": "Xe_ldPpbB4m9"
      }
    },
    {
      "cell_type": "code",
      "execution_count": 33,
      "metadata": {
        "colab": {
          "base_uri": "https://localhost:8080/"
        },
        "id": "aPFVZYmd4gRf",
        "outputId": "1ea4b3bb-537f-46d3-b20e-83aa02f4b805"
      },
      "outputs": [
        {
          "output_type": "stream",
          "name": "stdout",
          "text": [
            "['apple', 'pineapple', 'banana']\n",
            "pineapplebanana\n",
            "watermelon\n",
            "['apple', 'pineapple', 'banana']\n",
            "['apple', 'pineapple', 'papaya', 'grapes', 'watermelon', '2']\n",
            "['2', 'apple', 'grapes', 'papaya', 'pineapple', 'strawberry', 'watermelon']\n",
            "7\n"
          ]
        }
      ],
      "source": [
        "#working on lists\n",
        "fruit=[\"apple\",\"pineapple\",\"banana\",\"grapes\",\"watermelon\",'2']\n",
        "print(fruit[0:3])\n",
        "print(fruit[1]+fruit[2])\n",
        "print(fruit[-2])\n",
        "print(fruit[:3])\n",
        "fruit[2]='papaya'\n",
        "print(fruit)\n",
        "fruit.insert(3,'strawberry')\n",
        "fruit.sort()\n",
        "print(fruit)\n",
        "print(len(fruit))"
      ]
    },
    {
      "cell_type": "markdown",
      "source": [
        "***Appeanding***"
      ],
      "metadata": {
        "id": "wldNBEJoCBNV"
      }
    },
    {
      "cell_type": "code",
      "source": [
        "my_list = [3, 8, 1, 6, 8, 8, 4]\n",
        "my_list.append('7')\n",
        "print(my_list)\n",
        "my_list.extend(['7','5','10'])\n",
        "print(my_list)\n",
        "print(my_list.index(8))  \n",
        "print(my_list.count(8))  "
      ],
      "metadata": {
        "colab": {
          "base_uri": "https://localhost:8080/"
        },
        "id": "qdZ8e6dy-3dx",
        "outputId": "7153659c-8fef-4eaa-d8e4-db4994d5dc7a"
      },
      "execution_count": 34,
      "outputs": [
        {
          "output_type": "stream",
          "name": "stdout",
          "text": [
            "[3, 8, 1, 6, 8, 8, 4, '7']\n",
            "[3, 8, 1, 6, 8, 8, 4, '7', '7', '5', '10']\n",
            "1\n",
            "3\n"
          ]
        }
      ]
    },
    {
      "cell_type": "code",
      "source": [
        "fruit=['apple','banana','mango','papaya']\n",
        "for fruit in fruit:\n",
        "    print(\"I like\",fruit)"
      ],
      "metadata": {
        "colab": {
          "base_uri": "https://localhost:8080/"
        },
        "id": "Hp4fxGAJ_opJ",
        "outputId": "3247ba02-df52-477b-cf50-9977fb335c85"
      },
      "execution_count": 26,
      "outputs": [
        {
          "output_type": "stream",
          "name": "stdout",
          "text": [
            "I like apple\n",
            "I like banana\n",
            "I like mango\n",
            "I like papaya\n"
          ]
        }
      ]
    }
  ]
}