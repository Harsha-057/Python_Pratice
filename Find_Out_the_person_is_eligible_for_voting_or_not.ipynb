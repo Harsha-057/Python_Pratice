{
  "nbformat": 4,
  "nbformat_minor": 0,
  "metadata": {
    "colab": {
      "name": "Find Out the person is eligible for voting or not",
      "provenance": [],
      "authorship_tag": "ABX9TyMfOSxAPIY4P1PBYcWty2EG",
      "include_colab_link": true
    },
    "kernelspec": {
      "name": "python3",
      "display_name": "Python 3"
    },
    "language_info": {
      "name": "python"
    }
  },
  "cells": [
    {
      "cell_type": "markdown",
      "metadata": {
        "id": "view-in-github",
        "colab_type": "text"
      },
      "source": [
        "<a href=\"https://colab.research.google.com/github/Harsha-057/Python_Pratice/blob/main/Find_Out_the_person_is_eligible_for_voting_or_not.ipynb\" target=\"_parent\"><img src=\"https://colab.research.google.com/assets/colab-badge.svg\" alt=\"Open In Colab\"/></a>"
      ]
    },
    {
      "cell_type": "code",
      "execution_count": 12,
      "metadata": {
        "colab": {
          "base_uri": "https://localhost:8080/"
        },
        "id": "pgYRo_fqPtHC",
        "outputId": "989b18c0-c169-4bba-db9f-02eb574971d1"
      },
      "outputs": [
        {
          "output_type": "stream",
          "name": "stdout",
          "text": [
            "not eligible\n"
          ]
        }
      ],
      "source": [
        "a=5\n",
        "if a>=18:\n",
        "    print(\"eligible\")\n",
        "else :\n",
        "    print(\"not eligible\")"
      ]
    },
    {
      "cell_type": "code",
      "source": [
        "a=int(input())\n",
        "if (a>=18):\n",
        "    print(\"eligible\")\n",
        "else :\n",
        "    print(\"not eligible\")"
      ],
      "metadata": {
        "colab": {
          "base_uri": "https://localhost:8080/"
        },
        "id": "_fJfk2MiQ_dt",
        "outputId": "3729f9c7-cc82-4854-838c-37819c19fbca"
      },
      "execution_count": 13,
      "outputs": [
        {
          "output_type": "stream",
          "name": "stdout",
          "text": [
            "18\n",
            "eligible\n"
          ]
        }
      ]
    }
  ]
}