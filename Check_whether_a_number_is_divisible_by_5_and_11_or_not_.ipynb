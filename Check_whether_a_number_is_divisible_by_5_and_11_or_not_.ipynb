{
  "nbformat": 4,
  "nbformat_minor": 0,
  "metadata": {
    "colab": {
      "name": "Check whether a number is divisible by 5 and 11 or not.",
      "provenance": [],
      "authorship_tag": "ABX9TyM0rxpKZAGzm/G+M1dhJ3m5",
      "include_colab_link": true
    },
    "kernelspec": {
      "name": "python3",
      "display_name": "Python 3"
    },
    "language_info": {
      "name": "python"
    }
  },
  "cells": [
    {
      "cell_type": "markdown",
      "metadata": {
        "id": "view-in-github",
        "colab_type": "text"
      },
      "source": [
        "<a href=\"https://colab.research.google.com/github/Harsha-057/Python_Pratice/blob/control-statements/Check_whether_a_number_is_divisible_by_5_and_11_or_not_.ipynb\" target=\"_parent\"><img src=\"https://colab.research.google.com/assets/colab-badge.svg\" alt=\"Open In Colab\"/></a>"
      ]
    },
    {
      "cell_type": "code",
      "execution_count": 2,
      "metadata": {
        "colab": {
          "base_uri": "https://localhost:8080/"
        },
        "id": "h5zYsjG3eCpP",
        "outputId": "afac4258-4e88-4751-b034-444f66adc51b"
      },
      "outputs": [
        {
          "output_type": "stream",
          "name": "stdout",
          "text": [
            "not divisible by 5 and 11\n"
          ]
        }
      ],
      "source": [
        "num=20\n",
        "if((num % 5 == 0) and (num % 11 == 0)):\n",
        "  print(\"number is divisile by 5 and 11\")\n",
        "else:\n",
        "  print(\"not divisible by 5 and 11\")"
      ]
    },
    {
      "cell_type": "code",
      "source": [
        "num=int(input())\n",
        "if((num % 5 == 0) and (num % 11 == 0)):\n",
        "  print(\"number is divisile by 5 and 11\")\n",
        "else:\n",
        "  print(\"not divisible by 5 and 11\")"
      ],
      "metadata": {
        "colab": {
          "base_uri": "https://localhost:8080/"
        },
        "id": "1-PpAPuhe05h",
        "outputId": "9080fb23-c488-4c3c-d91a-b9bcae19cf48"
      },
      "execution_count": 3,
      "outputs": [
        {
          "output_type": "stream",
          "name": "stdout",
          "text": [
            "25\n",
            "not divisible by 5 and 11\n"
          ]
        }
      ]
    }
  ]
}