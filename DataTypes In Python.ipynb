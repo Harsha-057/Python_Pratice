{
 "cells": [
  {
   "cell_type": "markdown",
   "id": "b49087a7",
   "metadata": {},
   "source": [
    "# Converting int to string, float,boolean, complex."
   ]
  },
  {
   "cell_type": "code",
   "execution_count": 25,
   "id": "8f8d5235",
   "metadata": {},
   "outputs": [
    {
     "name": "stdout",
     "output_type": "stream",
     "text": [
      "10\n",
      "<class 'int'>\n",
      "10\n",
      "<class 'str'>\n",
      "10.0\n",
      "<class 'float'>\n",
      "True\n",
      "<class 'int'>\n",
      "(10+0j)\n",
      "<class 'complex'>\n"
     ]
    }
   ],
   "source": [
    "a=10\n",
    "print(a)\n",
    "print(type(a))\n",
    "# before conversion\n",
    "b=str(a)\n",
    "print(b)\n",
    "print(type(b))\n",
    "# after conversion\n",
    "c=float(a)\n",
    "print(c)\n",
    "print(type(c))\n",
    "d=bool(a)\n",
    "print(d)\n",
    "print(type(a))\n",
    "e=complex(a)\n",
    "print(e)\n",
    "print(type(e))"
   ]
  },
  {
   "cell_type": "markdown",
   "id": "d7fb5435",
   "metadata": {},
   "source": [
    "## Converting string into int, float, boolean, complex"
   ]
  },
  {
   "cell_type": "code",
   "execution_count": 26,
   "id": "6965b995",
   "metadata": {},
   "outputs": [
    {
     "name": "stdout",
     "output_type": "stream",
     "text": [
      "10\n",
      "<class 'str'>\n",
      "10\n",
      "<class 'int'>\n",
      "10.0\n",
      "<class 'float'>\n",
      "True\n",
      "<class 'str'>\n",
      "(10+0j)\n",
      "<class 'complex'>\n"
     ]
    },
    {
     "ename": "ValueError",
     "evalue": "invalid literal for int() with base 10: 'ten'",
     "output_type": "error",
     "traceback": [
      "\u001b[1;31m---------------------------------------------------------------------------\u001b[0m",
      "\u001b[1;31mValueError\u001b[0m                                Traceback (most recent call last)",
      "\u001b[1;32m~\\AppData\\Local\\Temp/ipykernel_7144/417385990.py\u001b[0m in \u001b[0;36m<module>\u001b[1;34m\u001b[0m\n\u001b[0;32m     18\u001b[0m \u001b[1;31m# cant convert alphabets into integer instead of alphabets give digits i.e 0-9\u001b[0m\u001b[1;33m\u001b[0m\u001b[1;33m\u001b[0m\u001b[0m\n\u001b[0;32m     19\u001b[0m \u001b[0mf\u001b[0m\u001b[1;33m=\u001b[0m\u001b[1;34m\"ten\"\u001b[0m\u001b[1;33m\u001b[0m\u001b[1;33m\u001b[0m\u001b[0m\n\u001b[1;32m---> 20\u001b[1;33m \u001b[0mf\u001b[0m\u001b[1;33m=\u001b[0m\u001b[0mint\u001b[0m\u001b[1;33m(\u001b[0m\u001b[0mf\u001b[0m\u001b[1;33m)\u001b[0m\u001b[1;33m\u001b[0m\u001b[1;33m\u001b[0m\u001b[0m\n\u001b[0m\u001b[0;32m     21\u001b[0m \u001b[0mprint\u001b[0m\u001b[1;33m(\u001b[0m\u001b[0mf\u001b[0m\u001b[1;33m)\u001b[0m\u001b[1;33m\u001b[0m\u001b[1;33m\u001b[0m\u001b[0m\n\u001b[0;32m     22\u001b[0m \u001b[0mprint\u001b[0m\u001b[1;33m(\u001b[0m\u001b[0mtype\u001b[0m\u001b[1;33m(\u001b[0m\u001b[0mf\u001b[0m\u001b[1;33m)\u001b[0m\u001b[1;33m)\u001b[0m\u001b[1;33m\u001b[0m\u001b[1;33m\u001b[0m\u001b[0m\n",
      "\u001b[1;31mValueError\u001b[0m: invalid literal for int() with base 10: 'ten'"
     ]
    }
   ],
   "source": [
    "a='10'\n",
    "print(a)\n",
    "print(type(a))\n",
    "# before conversion\n",
    "b=int(a)\n",
    "print(b)\n",
    "print(type(b))\n",
    "# after conversion\n",
    "c=float(a)\n",
    "print(c)\n",
    "print(type(c))\n",
    "d=bool(a)\n",
    "print(d)\n",
    "print(type(a))\n",
    "e=complex(a)\n",
    "print(e)\n",
    "print(type(e))\n",
    "# cant convert alphabets into integer instead of alphabets give digits i.e 0-9\n",
    "f=\"ten\"\n",
    "f=int(f)\n",
    "print(f)\n",
    "print(type(f))"
   ]
  },
  {
   "cell_type": "markdown",
   "id": "f9706f9a",
   "metadata": {},
   "source": [
    "### Converting float into int, string, boolean, complex"
   ]
  },
  {
   "cell_type": "code",
   "execution_count": 27,
   "id": "79208529",
   "metadata": {},
   "outputs": [
    {
     "name": "stdout",
     "output_type": "stream",
     "text": [
      "16.5\n",
      "<class 'float'>\n",
      "16.5\n",
      "<class 'str'>\n",
      "16\n",
      "<class 'int'>\n",
      "True\n",
      "<class 'float'>\n",
      "(16.5+0j)\n",
      "<class 'complex'>\n"
     ]
    }
   ],
   "source": [
    "a=16.5\n",
    "print(a)\n",
    "print(type(a))\n",
    "# before conversion\n",
    "b=str(a)\n",
    "print(b)\n",
    "print(type(b))\n",
    "# after conversion\n",
    "c=int(a)\n",
    "print(c)\n",
    "print(type(c))\n",
    "d=bool(a)\n",
    "print(d)\n",
    "print(type(a))\n",
    "e=complex(a)\n",
    "print(e)\n",
    "print(type(e))"
   ]
  },
  {
   "cell_type": "markdown",
   "id": "eaa64c53",
   "metadata": {},
   "source": [
    "#### Converting boolean into int, string, float, complex"
   ]
  },
  {
   "cell_type": "code",
   "execution_count": 32,
   "id": "05ed8ab9",
   "metadata": {},
   "outputs": [
    {
     "name": "stdout",
     "output_type": "stream",
     "text": [
      "True\n",
      "<class 'bool'>\n",
      "True\n",
      "<class 'str'>\n",
      "1\n",
      "<class 'int'>\n",
      "1.0\n",
      "<class 'bool'>\n",
      "(1+0j)\n",
      "<class 'complex'>\n"
     ]
    }
   ],
   "source": [
    "a=True\n",
    "print(a)\n",
    "print(type(a))\n",
    "# before conversion\n",
    "b=str(a)\n",
    "print(b)\n",
    "print(type(b))\n",
    "# after conversion\n",
    "c=int(a)\n",
    "print(c)\n",
    "print(type(c))\n",
    "d=float(a)\n",
    "print(d)\n",
    "print(type(a))\n",
    "e=complex(a)\n",
    "print(e)\n",
    "print(type(e))"
   ]
  },
  {
   "cell_type": "markdown",
   "id": "c44775c8",
   "metadata": {},
   "source": [
    "##### Converting complex into int, string, float, boolean"
   ]
  },
  {
   "cell_type": "code",
   "execution_count": 34,
   "id": "5b575e9e",
   "metadata": {},
   "outputs": [
    {
     "name": "stdout",
     "output_type": "stream",
     "text": [
      "16\n",
      "<class 'int'>\n",
      "16\n",
      "<class 'str'>\n",
      "16\n",
      "<class 'int'>\n",
      "16.0\n",
      "<class 'int'>\n",
      "True\n",
      "<class 'bool'>\n"
     ]
    }
   ],
   "source": [
    "# cant convert complex into int\n",
    "a=16+0\n",
    "print(a)\n",
    "print(type(a))\n",
    "# before conversion\n",
    "b=str(a)\n",
    "print(b)\n",
    "print(type(b))\n",
    "# after conversion\n",
    "c=int(a)\n",
    "print(c)\n",
    "print(type(c))\n",
    "d=float(a)\n",
    "print(d)\n",
    "print(type(a))\n",
    "e=bool(a)\n",
    "print(e)\n",
    "print(type(e))"
   ]
  },
  {
   "cell_type": "code",
   "execution_count": null,
   "id": "42d1b56a",
   "metadata": {},
   "outputs": [],
   "source": []
  }
 ],
 "metadata": {
  "kernelspec": {
   "display_name": "Python 3 (ipykernel)",
   "language": "python",
   "name": "python3"
  },
  "language_info": {
   "codemirror_mode": {
    "name": "ipython",
    "version": 3
   },
   "file_extension": ".py",
   "mimetype": "text/x-python",
   "name": "python",
   "nbconvert_exporter": "python",
   "pygments_lexer": "ipython3",
   "version": "3.9.7"
  }
 },
 "nbformat": 4,
 "nbformat_minor": 5
}
