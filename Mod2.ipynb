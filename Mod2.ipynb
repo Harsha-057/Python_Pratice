{
  "nbformat": 4,
  "nbformat_minor": 0,
  "metadata": {
    "colab": {
      "name": "Mod_2.ipynb",
      "provenance": [],
      "include_colab_link": true
    },
    "kernelspec": {
      "name": "python3",
      "display_name": "Python 3"
    },
    "language_info": {
      "name": "python"
    }
  },
  "cells": [
    {
      "cell_type": "markdown",
      "metadata": {
        "id": "view-in-github",
        "colab_type": "text"
      },
      "source": [
        "<a href=\"https://colab.research.google.com/github/Harsha-057/Python_Pratice/blob/main/Mod2.ipynb\" target=\"_parent\"><img src=\"https://colab.research.google.com/assets/colab-badge.svg\" alt=\"Open In Colab\"/></a>"
      ]
    },
    {
      "cell_type": "code",
      "execution_count": null,
      "metadata": {
        "id": "xE1oLGy6HpDR"
      },
      "outputs": [],
      "source": [
        "import math\n",
        "a=int(input(\"Enter N \"))\n",
        "b=int(input(\"Enter R \"))\n",
        "if a<b :\n",
        "  print(\"It's not possible \")\n",
        "else :\n",
        "  nf=math.factorial(a)\n",
        "  rf=math.factorial(b)\n",
        "  nnf=math.factorial((a-b))\n",
        "  s=nf/(nnf*rf)\n",
        "  print(f\"nCr is {s}\")"
      ]
    },
    {
      "cell_type": "code",
      "source": [
        "def gcd(a,b) :\n",
        "  k=a if (a<b) else b\n",
        "  while True:\n",
        "    if(a%k==0 and b%k==0):\n",
        "      break\n",
        "    k-=1\n",
        "  return k\n",
        "\n",
        "a=int(input(\"Enter 1st number \"))\n",
        "b=int(input(\"Enter 2nd number \"))\n",
        "g=gcd(a,b)\n",
        "print(g)"
      ],
      "metadata": {
        "id": "26lhOCIYKOLJ"
      },
      "execution_count": null,
      "outputs": []
    },
    {
      "cell_type": "code",
      "source": [
        "def prod(a,b) :\n",
        "  if a<b :\n",
        "    return prod(b,a)\n",
        "  elif b!=0 :\n",
        "    return (a+prod(a,b-1))\n",
        "  else :\n",
        "    return 0\n",
        "\n",
        "a=int(input(\"Enter 1st number \"))\n",
        "b=int(input(\"Enter 2nd number \"))\n",
        "p=prod(a,b)\n",
        "print(\"product of two numbers is\",p)"
      ],
      "metadata": {
        "id": "AokRZFAPHN7v"
      },
      "execution_count": null,
      "outputs": []
    },
    {
      "cell_type": "code",
      "source": [
        "def fibb(n):\n",
        "  if n<=1 :\n",
        "    return 1\n",
        "  else :\n",
        "    return fibb(n-1)+fibb(n-2)\n",
        "\n",
        "n=int(input(\"Enter no. of terms \"))\n",
        "print(\"Fibonacci series is -->\")\n",
        "for i in range (n) :\n",
        "  print(fibb(i))"
      ],
      "metadata": {
        "id": "Em8ywO-9JAWv"
      },
      "execution_count": null,
      "outputs": []
    },
    {
      "cell_type": "code",
      "source": [
        "def dele(a) :\n",
        "  a.pop(0)\n",
        "  a.pop(3)\n",
        "  a.pop(3)\n",
        "  return a\n",
        "\n",
        "List = ['Red', 'Green', 'White', 'Black', 'Pink', 'Yellow'] \n",
        "a= dele(List)\n",
        "print(a)"
      ],
      "metadata": {
        "id": "QaZhtZ5yMpZw"
      },
      "execution_count": null,
      "outputs": []
    },
    {
      "cell_type": "code",
      "source": [
        "def addi(a,b) :\n",
        "  c=sum(a)-sum(b)\n",
        "  return c\n",
        "\n",
        "a=list(map(int, input().rstrip().split()))\n",
        "b=list(map(int, input().rstrip().split()))\n",
        "c=addi(a,b)\n",
        "print(c)"
      ],
      "metadata": {
        "id": "2TcLJ_p2OTF3"
      },
      "execution_count": null,
      "outputs": []
    },
    {
      "cell_type": "code",
      "source": [
        "def second(a) :\n",
        "  a.sort()\n",
        "  l=len(a)\n",
        "  a.remove(a[0])\n",
        "  a.remove(a[l-2])\n",
        "  l=len(a)\n",
        "  return a[0],a[l-1]\n",
        "\n",
        "a=set(map(int, input().rstrip().split()))\n",
        "a=list(a)\n",
        "b=second(a)\n",
        "print(b)"
      ],
      "metadata": {
        "id": "Y496XtrqUoWu"
      },
      "execution_count": null,
      "outputs": []
    },
    {
      "cell_type": "code",
      "source": [
        "a=[1,2,3,4,5,6]\n",
        "b=[]\n",
        "for i in range (len(a)) :\n",
        "  c=[]\n",
        "  c.append(a[i])\n",
        "  p=a[i]*a[i]\n",
        "  c.append(p)\n",
        "  c=tuple(c)\n",
        "  b.append(c)\n",
        "\n",
        "print(b)"
      ],
      "metadata": {
        "colab": {
          "base_uri": "https://localhost:8080/"
        },
        "id": "3gMMumEogjIr",
        "outputId": "3520d647-a272-48b1-f7ba-79024320ccb0"
      },
      "execution_count": null,
      "outputs": [
        {
          "output_type": "stream",
          "name": "stdout",
          "text": [
            "[(1, 1), (2, 4), (3, 9), (4, 16), (5, 25), (6, 36)]\n"
          ]
        }
      ]
    },
    {
      "cell_type": "code",
      "source": [
        "test = [(4, 5), (4, ), (8, 6, 7), (1, ), (3, 4, 6, 7)]\n",
        "k=2\n",
        "l=len(test)\n",
        "for i in range (l) :\n",
        "  l=len(test)\n",
        "  a=test[i]\n",
        "  tl=len(a)\n",
        "  if tl==k :\n",
        "    del test[i]\n",
        "  if i==0 :\n",
        "    break\n",
        "\n",
        "print(test)"
      ],
      "metadata": {
        "id": "-JvFMBi43gvR"
      },
      "execution_count": null,
      "outputs": []
    },
    {
      "cell_type": "code",
      "source": [
        "n=int(input(\"Enter a number \"))\n",
        "a={}\n",
        "for i in range(n) :\n",
        "  k=(i+1)\n",
        "  v=k*k\n",
        "  a.update({k:v})\n",
        "\n",
        "a"
      ],
      "metadata": {
        "id": "np6U4zEfknHV"
      },
      "execution_count": null,
      "outputs": []
    },
    {
      "cell_type": "code",
      "source": [
        "tdict = {\n",
        "  \"brand\": \"Ford\",\n",
        "  \"model\": \"Mustang\",\n",
        "  \"year\": 1964\n",
        "}\n",
        "x=tdict.keys()\n",
        "print(\"Keys of this dictionary are : \" , end= \"\")\n",
        "print(x)\n",
        "\n",
        "x=input(\"Enter key to be removed \")\n",
        "tdict = {\n",
        "  \"brand\": \"Ford\",\n",
        "  \"model\": \"Mustang\",\n",
        "  \"year\": 1964\n",
        "}\n",
        "tdict.pop(x)\n",
        "tdict"
      ],
      "metadata": {
        "id": "QUXYVvhvov6-"
      },
      "execution_count": null,
      "outputs": []
    },
    {
      "cell_type": "code",
      "source": [
        "dic={}\n",
        "n=int(input(\"Enter number of keys to e entered \"))\n",
        "for i in range (n) :\n",
        "  k=input(\"enter key :\")\n",
        "  v=int(input(\"enter value :\"))\n",
        "  dic.update({k:v})\n",
        "x= list(dic.values())\n",
        "x.sort()\n",
        "print(x[0],x[len(x)-1])"
      ],
      "metadata": {
        "id": "E695nR6_q60q"
      },
      "execution_count": null,
      "outputs": []
    },
    {
      "cell_type": "code",
      "source": [
        "a=input(\"Enter your string \")\n",
        "x=a.split()\n",
        "n=int(input(\"Enter your index number \"))\n",
        "y=a[n]\n",
        "print(f\"original string is {a}\\nsplitted string is {x}\\nindex number points to {y}\")"
      ],
      "metadata": {
        "id": "IzhKgyp1U1kV"
      },
      "execution_count": null,
      "outputs": []
    },
    {
      "cell_type": "code",
      "source": [
        "a=input(\"Enter your string \")\n",
        "n=input(\"Enter element to be counted \")\n",
        "f=a.count(n)\n",
        "print(f\"{n} is repeated {f} times\")"
      ],
      "metadata": {
        "id": "wp4KVfIMWRbA"
      },
      "execution_count": null,
      "outputs": []
    },
    {
      "cell_type": "code",
      "source": [
        "a=input(\"Enter your string \")\n",
        "n=input(\"Enter substring to be replaced \")\n",
        "m=input(\"Enter replacing substring \")\n",
        "x=a.replace(n,m)\n",
        "print(f\"replaced string is {x}\")"
      ],
      "metadata": {
        "id": "cv3hh7BEXMRN"
      },
      "execution_count": null,
      "outputs": []
    },
    {
      "cell_type": "code",
      "source": [
        "a=list(map(str, input().rstrip().split()))\n",
        "d=[]\n",
        "for i in range(len(a)) :\n",
        "  b=a[i]\n",
        "  c=b[0]\n",
        "  c=c.upper()\n",
        "  d.append(c)\n",
        "\n",
        "for i in range (len(d)) :\n",
        "  print(d[i] , end =\"\")"
      ],
      "metadata": {
        "id": "h3j_lMWqqjQs"
      },
      "execution_count": null,
      "outputs": []
    },
    {
      "cell_type": "code",
      "source": [
        "a=list(map(str, input().rstrip().rsplit()))\n",
        "s=0\n",
        "for i in a :\n",
        "  l=len(i)\n",
        "  if i[0]==i[l-1] and l>2:\n",
        "    s+=1\n",
        "\n",
        "print(s)"
      ],
      "metadata": {
        "id": "T0mVAyoGZ3ma"
      },
      "execution_count": null,
      "outputs": []
    }
  ]
}