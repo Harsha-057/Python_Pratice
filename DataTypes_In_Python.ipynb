{
  "cells": [
    {
      "cell_type": "markdown",
      "metadata": {
        "id": "view-in-github",
        "colab_type": "text"
      },
      "source": [
        "<a href=\"https://colab.research.google.com/github/Harsha-057/Python_Pratice/blob/main/DataTypes_In_Python.ipynb\" target=\"_parent\"><img src=\"https://colab.research.google.com/assets/colab-badge.svg\" alt=\"Open In Colab\"/></a>"
      ]
    },
    {
      "cell_type": "markdown",
      "source": [
        "DataTypes In Python.\n"
      ],
      "metadata": {
        "id": "-YHva_wFr1Va"
      },
      "id": "-YHva_wFr1Va"
    },
    {
      "cell_type": "markdown",
      "id": "b49087a7",
      "metadata": {
        "id": "b49087a7"
      },
      "source": [
        "# Converting int to string, float,boolean, complex.\n"
      ]
    },
    {
      "cell_type": "code",
      "execution_count": 1,
      "id": "8f8d5235",
      "metadata": {
        "colab": {
          "base_uri": "https://localhost:8080/"
        },
        "id": "8f8d5235",
        "outputId": "7b000bf1-81f3-4411-fcb5-0c6e1154f3a4"
      },
      "outputs": [
        {
          "output_type": "stream",
          "name": "stdout",
          "text": [
            "10\n",
            "<class 'int'>\n",
            "10\n",
            "<class 'str'>\n",
            "10.0\n",
            "<class 'float'>\n",
            "True\n",
            "<class 'int'>\n",
            "(10+0j)\n",
            "<class 'complex'>\n"
          ]
        }
      ],
      "source": [
        "a=10\n",
        "print(a)\n",
        "print(type(a))\n",
        "# before conversion\n",
        "b=str(a)\n",
        "print(b)\n",
        "print(type(b))\n",
        "# after conversion\n",
        "c=float(a)\n",
        "print(c)\n",
        "print(type(c))\n",
        "d=bool(a)\n",
        "print(d)\n",
        "print(type(a))\n",
        "e=complex(a)\n",
        "print(e)\n",
        "print(type(e))"
      ]
    },
    {
      "cell_type": "markdown",
      "id": "d7fb5435",
      "metadata": {
        "id": "d7fb5435"
      },
      "source": [
        "## Converting string into int, float, boolean, complex"
      ]
    },
    {
      "cell_type": "code",
      "execution_count": 3,
      "id": "6965b995",
      "metadata": {
        "colab": {
          "base_uri": "https://localhost:8080/",
          "height": 408
        },
        "id": "6965b995",
        "outputId": "491c1420-d9d6-462c-9c8e-7e0e334ca6b9"
      },
      "outputs": [
        {
          "output_type": "stream",
          "name": "stdout",
          "text": [
            "10\n",
            "<class 'str'>\n",
            "10\n",
            "<class 'int'>\n",
            "10.0\n",
            "<class 'float'>\n",
            "True\n",
            "<class 'str'>\n",
            "(10+0j)\n",
            "<class 'complex'>\n"
          ]
        },
        {
          "output_type": "error",
          "ename": "ValueError",
          "evalue": "ignored",
          "traceback": [
            "\u001b[0;31m---------------------------------------------------------------------------\u001b[0m",
            "\u001b[0;31mValueError\u001b[0m                                Traceback (most recent call last)",
            "\u001b[0;32m<ipython-input-3-5906fe3329a3>\u001b[0m in \u001b[0;36m<module>\u001b[0;34m()\u001b[0m\n\u001b[1;32m     18\u001b[0m \u001b[0;31m# cant convert alphabets into integer instead of alphabets give digits i.e 0-9\u001b[0m\u001b[0;34m\u001b[0m\u001b[0;34m\u001b[0m\u001b[0;34m\u001b[0m\u001b[0m\n\u001b[1;32m     19\u001b[0m \u001b[0mf\u001b[0m\u001b[0;34m=\u001b[0m\u001b[0;34m\"ten\"\u001b[0m\u001b[0;34m\u001b[0m\u001b[0;34m\u001b[0m\u001b[0m\n\u001b[0;32m---> 20\u001b[0;31m \u001b[0mf\u001b[0m\u001b[0;34m=\u001b[0m\u001b[0mint\u001b[0m\u001b[0;34m(\u001b[0m\u001b[0mf\u001b[0m\u001b[0;34m)\u001b[0m\u001b[0;34m\u001b[0m\u001b[0;34m\u001b[0m\u001b[0m\n\u001b[0m\u001b[1;32m     21\u001b[0m \u001b[0mprint\u001b[0m\u001b[0;34m(\u001b[0m\u001b[0mf\u001b[0m\u001b[0;34m)\u001b[0m\u001b[0;34m\u001b[0m\u001b[0;34m\u001b[0m\u001b[0m\n\u001b[1;32m     22\u001b[0m \u001b[0mprint\u001b[0m\u001b[0;34m(\u001b[0m\u001b[0mtype\u001b[0m\u001b[0;34m(\u001b[0m\u001b[0mf\u001b[0m\u001b[0;34m)\u001b[0m\u001b[0;34m)\u001b[0m\u001b[0;34m\u001b[0m\u001b[0;34m\u001b[0m\u001b[0m\n",
            "\u001b[0;31mValueError\u001b[0m: invalid literal for int() with base 10: 'ten'"
          ]
        }
      ],
      "source": [
        "a='10'\n",
        "print(a)\n",
        "print(type(a))\n",
        "# before conversion\n",
        "b=int(a)\n",
        "print(b)\n",
        "print(type(b))\n",
        "# after conversion\n",
        "c=float(a)\n",
        "print(c)\n",
        "print(type(c))\n",
        "d=bool(a)\n",
        "print(d)\n",
        "print(type(a))\n",
        "e=complex(a)\n",
        "print(e)\n",
        "print(type(e))\n",
        "# cant convert alphabets into integer instead of alphabets give digits i.e 0-9\n",
        "f=\"ten\"\n",
        "f=int(f)\n",
        "print(f)\n",
        "print(type(f))"
      ]
    },
    {
      "cell_type": "markdown",
      "id": "f9706f9a",
      "metadata": {
        "id": "f9706f9a"
      },
      "source": [
        "### Converting float into int, string, boolean, complex"
      ]
    },
    {
      "cell_type": "code",
      "execution_count": 4,
      "id": "79208529",
      "metadata": {
        "colab": {
          "base_uri": "https://localhost:8080/"
        },
        "id": "79208529",
        "outputId": "cc48b113-bc08-4794-d6e8-540389fd3354"
      },
      "outputs": [
        {
          "output_type": "stream",
          "name": "stdout",
          "text": [
            "16.5\n",
            "<class 'float'>\n",
            "16.5\n",
            "<class 'str'>\n",
            "16\n",
            "<class 'int'>\n",
            "True\n",
            "<class 'float'>\n",
            "(16.5+0j)\n",
            "<class 'complex'>\n"
          ]
        }
      ],
      "source": [
        "a=16.5\n",
        "print(a)\n",
        "print(type(a))\n",
        "# before conversion\n",
        "b=str(a)\n",
        "print(b)\n",
        "print(type(b))\n",
        "# after conversion\n",
        "c=int(a)\n",
        "print(c)\n",
        "print(type(c))\n",
        "d=bool(a)\n",
        "print(d)\n",
        "print(type(a))\n",
        "e=complex(a)\n",
        "print(e)\n",
        "print(type(e))"
      ]
    },
    {
      "cell_type": "markdown",
      "id": "eaa64c53",
      "metadata": {
        "id": "eaa64c53"
      },
      "source": [
        "#### Converting boolean into int, string, float, complex"
      ]
    },
    {
      "cell_type": "code",
      "execution_count": 5,
      "id": "05ed8ab9",
      "metadata": {
        "colab": {
          "base_uri": "https://localhost:8080/"
        },
        "id": "05ed8ab9",
        "outputId": "c01906d5-547e-460f-9928-68c3233ca294"
      },
      "outputs": [
        {
          "output_type": "stream",
          "name": "stdout",
          "text": [
            "True\n",
            "<class 'bool'>\n",
            "True\n",
            "<class 'str'>\n",
            "1\n",
            "<class 'int'>\n",
            "1.0\n",
            "<class 'bool'>\n",
            "(1+0j)\n",
            "<class 'complex'>\n"
          ]
        }
      ],
      "source": [
        "a=True\n",
        "print(a)\n",
        "print(type(a))\n",
        "# before conversion\n",
        "b=str(a)\n",
        "print(b)\n",
        "print(type(b))\n",
        "# after conversion\n",
        "c=int(a)\n",
        "print(c)\n",
        "print(type(c))\n",
        "d=float(a)\n",
        "print(d)\n",
        "print(type(a))\n",
        "e=complex(a)\n",
        "print(e)\n",
        "print(type(e))"
      ]
    },
    {
      "cell_type": "markdown",
      "id": "c44775c8",
      "metadata": {
        "id": "c44775c8"
      },
      "source": [
        "##### Converting complex into int, string, float, boolean"
      ]
    },
    {
      "cell_type": "code",
      "execution_count": 6,
      "id": "5b575e9e",
      "metadata": {
        "colab": {
          "base_uri": "https://localhost:8080/"
        },
        "id": "5b575e9e",
        "outputId": "4e805753-88cc-4135-f8de-cc0750b1f0d2"
      },
      "outputs": [
        {
          "output_type": "stream",
          "name": "stdout",
          "text": [
            "16\n",
            "<class 'int'>\n",
            "16\n",
            "<class 'str'>\n",
            "16\n",
            "<class 'int'>\n",
            "16.0\n",
            "<class 'int'>\n",
            "True\n",
            "<class 'bool'>\n"
          ]
        }
      ],
      "source": [
        "# cant convert complex into int\n",
        "a=16+0\n",
        "print(a)\n",
        "print(type(a))\n",
        "# before conversion\n",
        "b=str(a)\n",
        "print(b)\n",
        "print(type(b))\n",
        "# after conversion\n",
        "c=int(a)\n",
        "print(c)\n",
        "print(type(c))\n",
        "d=float(a)\n",
        "print(d)\n",
        "print(type(a))\n",
        "e=bool(a)\n",
        "print(e)\n",
        "print(type(e))"
      ]
    },
    {
      "cell_type": "code",
      "execution_count": null,
      "id": "42d1b56a",
      "metadata": {
        "id": "42d1b56a"
      },
      "outputs": [],
      "source": [
        ""
      ]
    }
  ],
  "metadata": {
    "kernelspec": {
      "display_name": "Python 3 (ipykernel)",
      "language": "python",
      "name": "python3"
    },
    "language_info": {
      "codemirror_mode": {
        "name": "ipython",
        "version": 3
      },
      "file_extension": ".py",
      "mimetype": "text/x-python",
      "name": "python",
      "nbconvert_exporter": "python",
      "pygments_lexer": "ipython3",
      "version": "3.9.7"
    },
    "colab": {
      "name": "DataTypes In Python.ipynb",
      "provenance": [],
      "include_colab_link": true
    }
  },
  "nbformat": 4,
  "nbformat_minor": 5
}