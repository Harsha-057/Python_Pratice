{
  "nbformat": 4,
  "nbformat_minor": 0,
  "metadata": {
    "colab": {
      "name": "strings",
      "provenance": [],
      "authorship_tag": "ABX9TyMmMl7xn6c6bGrRjiFMpOx3",
      "include_colab_link": true
    },
    "kernelspec": {
      "name": "python3",
      "display_name": "Python 3"
    },
    "language_info": {
      "name": "python"
    }
  },
  "cells": [
    {
      "cell_type": "markdown",
      "metadata": {
        "id": "view-in-github",
        "colab_type": "text"
      },
      "source": [
        "<a href=\"https://colab.research.google.com/github/Harsha-057/Python_Pratice/blob/main/strings.ipynb\" target=\"_parent\"><img src=\"https://colab.research.google.com/assets/colab-badge.svg\" alt=\"Open In Colab\"/></a>"
      ]
    },
    {
      "cell_type": "code",
      "execution_count": 1,
      "metadata": {
        "colab": {
          "base_uri": "https://localhost:8080/"
        },
        "id": "Clqpdc-A954r",
        "outputId": "bc24cda4-d8a0-4e40-927e-1629831b27ea"
      },
      "outputs": [
        {
          "output_type": "stream",
          "name": "stdout",
          "text": [
            "hi im harsha started at madhurawada and had a stop at carshed and went straight and stopped at yenada and taken left from he juntion and reached the gitam\n",
            "154\n"
          ]
        }
      ],
      "source": [
        "#length of the string\n",
        "a=\"\"\"hi im harsha started at madhurawada and had a stop at carshed and went straight and stopped at yenada and taken left from he juntion and reached the gitam\"\"\"\n",
        "print(a)\n",
        "print(len(a))"
      ]
    },
    {
      "cell_type": "code",
      "source": [
        "#check string\n",
        "a=\"\"\"hi im harsha started at madhurawada and had a stop at carshed and went straight and stopped at yenada and taken left from he juntion and reached the gitam\"\"\"\n",
        "print(a)\n",
        "print(len(a))\n",
        "print(\"yes\" in a)\n"
      ],
      "metadata": {
        "colab": {
          "base_uri": "https://localhost:8080/"
        },
        "id": "QMagXA4K_thj",
        "outputId": "0a2d74f8-4738-4951-b6f5-93a1436559c6"
      },
      "execution_count": 4,
      "outputs": [
        {
          "output_type": "stream",
          "name": "stdout",
          "text": [
            "hi im harsha started at madhurawada and had a stop at carshed and went straight and stopped at yenada and taken left from he juntion and reached the gitam\n",
            "154\n",
            "False\n"
          ]
        }
      ]
    },
    {
      "cell_type": "code",
      "source": [
        "#if not\n",
        "a=\"\"\"hi im harsha started at madhurawada and had a stop at carshed and went straight and stopped at yenada and taken left from he juntion and reached the gitam\"\"\"\n",
        "print(\"yes\" not in a)"
      ],
      "metadata": {
        "colab": {
          "base_uri": "https://localhost:8080/"
        },
        "id": "z7lNEPwrBNxK",
        "outputId": "6347c4dc-2830-48ea-9338-69dd51ac06c5"
      },
      "execution_count": 7,
      "outputs": [
        {
          "output_type": "stream",
          "name": "stdout",
          "text": [
            "True\n"
          ]
        }
      ]
    },
    {
      "cell_type": "code",
      "source": [
        "#slicing\n",
        "a= \"i went to rrr movie\"\n",
        "print(a[2:-8],a[3:5])\n",
        "print(a[:2])"
      ],
      "metadata": {
        "colab": {
          "base_uri": "https://localhost:8080/"
        },
        "id": "oIHDR0RiCw9r",
        "outputId": "636179e6-dc0c-4536-e914-6a2ce9a97be2"
      },
      "execution_count": 22,
      "outputs": [
        {
          "output_type": "stream",
          "name": "stdout",
          "text": [
            "went to r en\n",
            "i \n"
          ]
        }
      ]
    },
    {
      "cell_type": "code",
      "source": [
        "#modify strings\n",
        "a=\" a for apple b for boy c for cat \"\n",
        "print(a.upper())\n",
        "b=\"\"\"A FOR APPLE B FOR BOY C FOR CAT\"\"\"\n",
        "print(b.lower())\n",
        "print(a.strip())\n",
        "print(a.replace(\"f\", \"p\"))\n",
        "print(b.split(\"F\"))"
      ],
      "metadata": {
        "colab": {
          "base_uri": "https://localhost:8080/"
        },
        "id": "TlqAj1KLEYXa",
        "outputId": "2d27b5e5-af13-4dcc-bed3-49507bc10ba0"
      },
      "execution_count": 36,
      "outputs": [
        {
          "output_type": "stream",
          "name": "stdout",
          "text": [
            " A FOR APPLE B FOR BOY C FOR CAT \n",
            "a for apple b for boy c for cat\n",
            "a for apple b for boy c for cat\n",
            " a por apple b por boy c por cat \n",
            "['A ', 'OR APPLE B ', 'OR BOY C ', 'OR CAT']\n"
          ]
        }
      ]
    },
    {
      "cell_type": "code",
      "source": [
        "#String Concatenation\n",
        "a = \"Hello\"\n",
        "b = \"World\"\n",
        "c = a + b\n",
        "print(c)\n",
        "d = a + \" \" + b\n",
        "print(d)"
      ],
      "metadata": {
        "colab": {
          "base_uri": "https://localhost:8080/"
        },
        "id": "boeDrLFBGSuq",
        "outputId": "5a770f38-48d1-41ec-a153-659a75d76eb9"
      },
      "execution_count": 38,
      "outputs": [
        {
          "output_type": "stream",
          "name": "stdout",
          "text": [
            "HelloWorld\n",
            "Hello World\n"
          ]
        }
      ]
    },
    {
      "cell_type": "code",
      "source": [
        "#String Format\n",
        "age = 18\n",
        "a = \"My name is Harsha, and I am {}\"\n",
        "print(a.format(age))"
      ],
      "metadata": {
        "colab": {
          "base_uri": "https://localhost:8080/"
        },
        "id": "KRwtSKtyGjTw",
        "outputId": "61523fb6-ebaa-41b0-9eb4-c40096adfc03"
      },
      "execution_count": 41,
      "outputs": [
        {
          "output_type": "stream",
          "name": "stdout",
          "text": [
            "My name is Harsha, and I am 18\n"
          ]
        }
      ]
    },
    {
      "cell_type": "code",
      "source": [
        "quantity = 3\n",
        "itemno = 567\n",
        "price = 49.95\n",
        "myorder = \"I want {} pieces of item {} for {} dollars.\"\n",
        "print(myorder.format(quantity, itemno, price))"
      ],
      "metadata": {
        "colab": {
          "base_uri": "https://localhost:8080/"
        },
        "id": "0lJ6LysKHTfi",
        "outputId": "b8760cdc-b355-41fb-80d8-8ce41f01aeff"
      },
      "execution_count": 42,
      "outputs": [
        {
          "output_type": "stream",
          "name": "stdout",
          "text": [
            "I want 3 pieces of item 567 for 49.95 dollars.\n"
          ]
        }
      ]
    },
    {
      "cell_type": "code",
      "source": [
        "quantity = 3\n",
        "itemno = 567\n",
        "price = 49.95\n",
        "myorder = \"I want to pay {2} dollars for {0} pieces of item {1}.\"\n",
        "print(myorder.format(quantity, itemno, price))"
      ],
      "metadata": {
        "colab": {
          "base_uri": "https://localhost:8080/"
        },
        "id": "TSD3qZU-Hcc4",
        "outputId": "070148f2-8266-409a-fecf-41d98dc2c4cf"
      },
      "execution_count": 43,
      "outputs": [
        {
          "output_type": "stream",
          "name": "stdout",
          "text": [
            "I want to pay 49.95 dollars for 3 pieces of item 567.\n"
          ]
        }
      ]
    },
    {
      "cell_type": "code",
      "source": [
        "#Escape Character\n",
        "a = \"We are the so-called Vikings\t from the north.\"\n",
        "print(a)"
      ],
      "metadata": {
        "colab": {
          "base_uri": "https://localhost:8080/"
        },
        "id": "bF0wHe2WH68Y",
        "outputId": "78292b06-e20a-474e-9f36-2ba360e9b529"
      },
      "execution_count": 55,
      "outputs": [
        {
          "output_type": "stream",
          "name": "stdout",
          "text": [
            "We are the so-called \\oooVikings\\ooo\t from the north.\n"
          ]
        }
      ]
    },
    {
      "cell_type": "code",
      "source": [
        "#String Methods\n",
        "a=\"I want pieces of item for dollars.\"\n",
        "print(a.capitalize())\n"
      ],
      "metadata": {
        "colab": {
          "base_uri": "https://localhost:8080/"
        },
        "id": "eQjOOcP0JDaz",
        "outputId": "6a00f798-44a0-4aa6-b9eb-a9fc2d96d8ec"
      },
      "execution_count": 56,
      "outputs": [
        {
          "output_type": "stream",
          "name": "stdout",
          "text": [
            "I want pieces of item for dollars.\n"
          ]
        }
      ]
    }
  ]
}