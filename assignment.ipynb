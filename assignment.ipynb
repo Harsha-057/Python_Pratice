{
 "cells": [
  {
   "cell_type": "code",
   "execution_count": 1,
   "id": "87cc01f3",
   "metadata": {},
   "outputs": [
    {
     "name": "stdout",
     "output_type": "stream",
     "text": [
      "10\n",
      "10\n"
     ]
    }
   ],
   "source": [
    "a= input()\n",
    "print(a)"
   ]
  },
  {
   "cell_type": "code",
   "execution_count": 2,
   "id": "9c52dec9",
   "metadata": {},
   "outputs": [
    {
     "name": "stdout",
     "output_type": "stream",
     "text": [
      "my age is 18\n"
     ]
    }
   ],
   "source": [
    "a= \"my age is {}\"\n",
    "age=18\n",
    "print(a.format(age))"
   ]
  },
  {
   "cell_type": "code",
   "execution_count": 3,
   "id": "5d08b5ae",
   "metadata": {},
   "outputs": [
    {
     "name": "stdout",
     "output_type": "stream",
     "text": [
      "30.1\n",
      "-10.100000000000001\n",
      "201.0\n",
      "0.49751243781094523\n",
      "10.0\n"
     ]
    }
   ],
   "source": [
    "a= 10\n",
    "b= 20.1\n",
    "c=a+b\n",
    "print(c)\n",
    "print(a-b)\n",
    "print(a*b)\n",
    "print(a/b)\n",
    "print(a%b)\n"
   ]
  },
  {
   "cell_type": "code",
   "execution_count": 8,
   "id": "605300a5",
   "metadata": {},
   "outputs": [
    {
     "name": "stdout",
     "output_type": "stream",
     "text": [
      "2\n",
      "120\n",
      "7200\n"
     ]
    }
   ],
   "source": [
    "a=int(input())\n",
    "m=a*60\n",
    "s=m*60\n",
    "print(m)\n",
    "print(s)"
   ]
  },
  {
   "cell_type": "code",
   "execution_count": 34,
   "id": "52a8fa31",
   "metadata": {},
   "outputs": [
    {
     "name": "stdout",
     "output_type": "stream",
     "text": [
      "10\n",
      "10\n",
      "10\n",
      "10\n",
      "10\n",
      "Sub a grade is D\n",
      "Sub b grade is D\n",
      "Sub c grade is D\n",
      "Sub d grade is D\n",
      "Sub e grade is D\n",
      "10.0\n",
      "Total grade D\n"
     ]
    }
   ],
   "source": [
    "a=int(input())\n",
    "b=int(input())\n",
    "c=int(input())\n",
    "d=int(input())\n",
    "e=int(input())\n",
    "avg = (a+b+c+d+e)/5\n",
    "if a>=90:\n",
    "    print(\"Sub a grade is A\")\n",
    "elif a>=80:\n",
    "    print(\"Sub a grade is B\")\n",
    "elif a>=70:\n",
    "    print(\"Sub a grade is C\")\n",
    "else:\n",
    "    print(\"Sub a grade is D\")\n",
    "if b>=90:\n",
    "    print(\"Sub b grade is A\")\n",
    "elif b>=80:\n",
    "    print(\"Sub b grade is B\")\n",
    "elif b>=70:\n",
    "    print(\"Sub b grade is C\")\n",
    "else:\n",
    "    print(\"Sub b grade is D\")\n",
    "if c>=90:\n",
    "    print(\"Sub c grade is A\")\n",
    "elif c>=80:\n",
    "    print(\"Sub c grade is B\")\n",
    "elif c>=70:\n",
    "    print(\"Sub c grade is C\")\n",
    "else:\n",
    "    print(\"Sub c grade is D\")\n",
    "if d>=90:\n",
    "    print(\"Sub d grade is A\")\n",
    "elif d>=80:\n",
    "    print(\"Sub d grade is B\")\n",
    "elif d>=70:\n",
    "    print(\"Sub d grade is C\")\n",
    "else:\n",
    "    print(\"Sub d grade is D\")\n",
    "if e>=90:\n",
    "    print(\"Sub e grade is A\")\n",
    "elif e>=80:\n",
    "    print(\"Sub e grade is B\")\n",
    "elif e>=70:\n",
    "    print(\"Sub e grade is C\")\n",
    "else:\n",
    "    print(\"Sub e grade is D\")\n",
    "print(avg)\n",
    "if avg>=90:\n",
    "    print(\"Total grade A\")\n",
    "elif avg>=80:\n",
    "    print(\"Total grade B\")\n",
    "elif avg>=70:\n",
    "    print(\"Total grade C\")\n",
    "else:\n",
    "    print(\"Total grade D\")"
   ]
  },
  {
   "cell_type": "code",
   "execution_count": 13,
   "id": "a34123a4",
   "metadata": {},
   "outputs": [
    {
     "name": "stdout",
     "output_type": "stream",
     "text": [
      "11\n",
      "10\n",
      "10.1258\n",
      "0.0\n",
      "2\n",
      "729.0\n",
      "3.0\n"
     ]
    }
   ],
   "source": [
    "# Math Lib\n",
    "import math\n",
    "a=10.1258\n",
    "print(math.ceil(a))\n",
    "print(math.floor(a))\n",
    "print(math.fabs(a))\n",
    "print(math.fmod(20, 4))\n",
    "print(math.trunc(2.77))\n",
    "print(math.pow(9, 3))\n",
    "print(math.sqrt(9))"
   ]
  },
  {
   "cell_type": "code",
   "execution_count": 26,
   "id": "c142b485",
   "metadata": {},
   "outputs": [
    {
     "name": "stdout",
     "output_type": "stream",
     "text": [
      "+\n",
      "50\n",
      "20\n",
      "70\n"
     ]
    }
   ],
   "source": [
    "a=str(input())\n",
    "b=int(input())\n",
    "c=int(input())\n",
    "if a=='+' :\n",
    "    print(b+c)\n",
    "elif a=='-' :\n",
    "    print(b-c)\n",
    "elif a=='*' :\n",
    "    print(b*c)\n",
    "elif a=='/' :\n",
    "    print(b/c)\n",
    "else:\n",
    "    print(\"give Only +,-,*,/\")"
   ]
  },
  {
   "cell_type": "code",
   "execution_count": 48,
   "id": "c5869d75",
   "metadata": {},
   "outputs": [
    {
     "name": "stdout",
     "output_type": "stream",
     "text": [
      "10\n",
      "20\n",
      "10 12 14 16 18 20 11 13 15 17 19 "
     ]
    }
   ],
   "source": [
    "a=int(input())\n",
    "b=int(input())\n",
    "for num in range(a,b + 1):\n",
    "    if num%2==0:\n",
    "        print(num,end = \"\"\" \"\"\")\n",
    "for num in range(a,b + 1):\n",
    "    if num%2!=0:\n",
    "        print(num,end = \" \")\n"
   ]
  },
  {
   "cell_type": "code",
   "execution_count": null,
   "id": "f48b36ca",
   "metadata": {},
   "outputs": [],
   "source": []
  }
 ],
 "metadata": {
  "kernelspec": {
   "display_name": "Python 3 (ipykernel)",
   "language": "python",
   "name": "python3"
  },
  "language_info": {
   "codemirror_mode": {
    "name": "ipython",
    "version": 3
   },
   "file_extension": ".py",
   "mimetype": "text/x-python",
   "name": "python",
   "nbconvert_exporter": "python",
   "pygments_lexer": "ipython3",
   "version": "3.9.7"
  }
 },
 "nbformat": 4,
 "nbformat_minor": 5
}
