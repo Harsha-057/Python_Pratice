{
  "nbformat": 4,
  "nbformat_minor": 0,
  "metadata": {
    "colab": {
      "name": "Check whether the triangle is equilateral, isosceles, or scalene triangle.",
      "provenance": [],
      "authorship_tag": "ABX9TyNahanVVj71N3hIaQHRz0b1",
      "include_colab_link": true
    },
    "kernelspec": {
      "name": "python3",
      "display_name": "Python 3"
    },
    "language_info": {
      "name": "python"
    }
  },
  "cells": [
    {
      "cell_type": "markdown",
      "metadata": {
        "id": "view-in-github",
        "colab_type": "text"
      },
      "source": [
        "<a href=\"https://colab.research.google.com/github/Harsha-057/Python_Pratice/blob/control-statements/Check_whether_the_triangle_is_equilateral%2C_isosceles%2C_or_scalene_triangle_.ipynb\" target=\"_parent\"><img src=\"https://colab.research.google.com/assets/colab-badge.svg\" alt=\"Open In Colab\"/></a>"
      ]
    },
    {
      "cell_type": "code",
      "execution_count": 2,
      "metadata": {
        "colab": {
          "base_uri": "https://localhost:8080/"
        },
        "id": "QqGkJR-nX7MU",
        "outputId": "753ccad5-fc13-40f3-fe99-93e0f2027a12"
      },
      "outputs": [
        {
          "output_type": "stream",
          "name": "stdout",
          "text": [
            "equilateral\n"
          ]
        }
      ],
      "source": [
        "a=10\n",
        "b=10\n",
        "c=10\n",
        "if a==b==c:\n",
        "  print(\"equilateral\")\n",
        "elif a!=b and b!=c and c!=a:\n",
        "   print(\"scalene\")\n",
        "else:\n",
        "    print(\"isosceles\")\n",
        "   "
      ]
    },
    {
      "cell_type": "code",
      "source": [
        "a=int(input())\n",
        "b=int(input())\n",
        "c=int(input())\n",
        "if a==b==c:\n",
        "  print(\"equilateral\")\n",
        "elif a!=b and b!=c and c!=a:\n",
        "   print(\"scalene\")\n",
        "else:\n",
        "    print(\"isosceles\")\n",
        "   "
      ],
      "metadata": {
        "colab": {
          "base_uri": "https://localhost:8080/"
        },
        "id": "j5mPYrr6ZLuS",
        "outputId": "bb32bfed-173b-47cf-f0ea-4da86bdf5f69"
      },
      "execution_count": 3,
      "outputs": [
        {
          "output_type": "stream",
          "name": "stdout",
          "text": [
            "10\n",
            "20\n",
            "30\n",
            "scalene\n"
          ]
        }
      ]
    }
  ]
}