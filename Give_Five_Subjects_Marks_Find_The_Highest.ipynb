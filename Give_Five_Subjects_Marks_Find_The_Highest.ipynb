{
  "nbformat": 4,
  "nbformat_minor": 0,
  "metadata": {
    "colab": {
      "name": "Give Five Subjects Marks Find The Highest",
      "provenance": [],
      "authorship_tag": "ABX9TyO6rFJ2IZAyi/GTyiZe/j6P",
      "include_colab_link": true
    },
    "kernelspec": {
      "name": "python3",
      "display_name": "Python 3"
    },
    "language_info": {
      "name": "python"
    }
  },
  "cells": [
    {
      "cell_type": "markdown",
      "metadata": {
        "id": "view-in-github",
        "colab_type": "text"
      },
      "source": [
        "<a href=\"https://colab.research.google.com/github/Harsha-057/Python_Pratice/blob/control-statements/Give_Five_Subjects_Marks_Find_The_Highest.ipynb\" target=\"_parent\"><img src=\"https://colab.research.google.com/assets/colab-badge.svg\" alt=\"Open In Colab\"/></a>"
      ]
    },
    {
      "cell_type": "code",
      "execution_count": 9,
      "metadata": {
        "colab": {
          "base_uri": "https://localhost:8080/"
        },
        "id": "ySsAbYSVTUHD",
        "outputId": "e390bf0d-4164-4c9f-c703-46dfdd2531c8"
      },
      "outputs": [
        {
          "output_type": "stream",
          "name": "stdout",
          "text": [
            "c is highest\n"
          ]
        }
      ],
      "source": [
        "a=10\n",
        "b=20\n",
        "c=60\n",
        "d=40\n",
        "e=50\n",
        "if(a>b and a>c and a>d and a>e):\n",
        "  print(\"a is highest\")\n",
        "elif(b>a and b>c and b>d and b>e):\n",
        "  print(\"b is highest\")\n",
        "elif(c>a and c>b and c>d and c>e):\n",
        "  print(\"c is highest\")\n",
        "elif(d>a and d>c and d>c and d>e):\n",
        "  print(\"d is highest\")\n",
        "else:\n",
        "  print(\"e is highest\")"
      ]
    },
    {
      "cell_type": "code",
      "source": [
        "a=int(input())\n",
        "b=int(input())\n",
        "c=int(input())\n",
        "d=int(input())\n",
        "e=int(input())\n",
        "if(a>b and a>c and a>d and a>e):\n",
        "  print(a,\"a is highest\")\n",
        "elif(b>a and b>c and b>d and b>e):\n",
        "  print(b,\"b is highest\")\n",
        "elif(c>a and c>b and c>d and c>e):\n",
        "  print(c,\"c is highest\")\n",
        "elif(d>a and d>c and d>c and d>e):\n",
        "  print(d,\"d is highest\")\n",
        "else:\n",
        "  print(e,\n",
        "        \"e is highest\")"
      ],
      "metadata": {
        "colab": {
          "base_uri": "https://localhost:8080/"
        },
        "id": "Y2flRmNtU35D",
        "outputId": "18e64391-ba9c-4af4-9887-e88ab618f344"
      },
      "execution_count": 8,
      "outputs": [
        {
          "output_type": "stream",
          "name": "stdout",
          "text": [
            "10\n",
            "50\n",
            "60\n",
            "20\n",
            "30\n",
            "60 c is highest\n"
          ]
        }
      ]
    }
  ]
}