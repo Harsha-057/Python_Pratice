{
  "nbformat": 4,
  "nbformat_minor": 0,
  "metadata": {
    "colab": {
      "name": "questions.ipynb",
      "provenance": [],
      "authorship_tag": "ABX9TyPBJb3/4zfjtPscGSv0ULqd",
      "include_colab_link": true
    },
    "kernelspec": {
      "name": "python3",
      "display_name": "Python 3"
    },
    "language_info": {
      "name": "python"
    }
  },
  "cells": [
    {
      "cell_type": "markdown",
      "metadata": {
        "id": "view-in-github",
        "colab_type": "text"
      },
      "source": [
        "<a href=\"https://colab.research.google.com/github/Harsha-057/Python_Pratice/blob/main/questions.ipynb\" target=\"_parent\"><img src=\"https://colab.research.google.com/assets/colab-badge.svg\" alt=\"Open In Colab\"/></a>"
      ]
    },
    {
      "cell_type": "code",
      "execution_count": null,
      "metadata": {
        "colab": {
          "base_uri": "https://localhost:8080/"
        },
        "id": "MvfWbSkqaYyN",
        "outputId": "16fa11a9-0e5a-4531-8b26-e23ad789d9a1"
      },
      "outputs": [
        {
          "output_type": "stream",
          "name": "stdout",
          "text": [
            "enter25\n",
            "enter51\n",
            "29\n",
            "31\n",
            "37\n",
            "41\n",
            "43\n",
            "47\n"
          ]
        }
      ],
      "source": [
        "#write a program to print prime number in a given range by using funtion range(25 to 50)\n",
        "def prime(x):\n",
        "  flag=False\n",
        "  for i in range(2,x+1):\n",
        "    if x%i==0:\n",
        "      flag=True\n",
        "      break\n",
        "  if flag==False:\n",
        "    print(x)\n",
        "a=int(input(\"enter\"))\n",
        "b=int(input(\"enter\"))\n",
        "for i in range(a,b):\n",
        "  prime(i)"
      ]
    },
    {
      "cell_type": "code",
      "source": [
        "#write a program to read any month in integer and display days for that month \n",
        "a = int(input(\"enter\"))\n",
        "if a == 1 or a == 3 or a == 5 or a == 7 or a == 8 or a == 10 or a == 12:\n",
        "  print(\"31 Days\")\n",
        "elif a == 4 or a == 6 or a == 9 or a == 11:\n",
        "  print(\"30 Days\")\n",
        "else:\n",
        "  print(\"28 Days\")"
      ],
      "metadata": {
        "colab": {
          "base_uri": "https://localhost:8080/"
        },
        "id": "NriAkxKiantW",
        "outputId": "2db046bf-2063-4df4-910f-9778751ff535"
      },
      "execution_count": null,
      "outputs": [
        {
          "output_type": "stream",
          "name": "stdout",
          "text": [
            "enter2\n",
            "28 Days\n"
          ]
        }
      ]
    },
    {
      "cell_type": "code",
      "source": [
        "#write a python program to print even length words in a string \n",
        "def even(s):\n",
        "  s = s.split(\" \")\n",
        "  for i in s:\n",
        "    if len(i)%2==0:\n",
        "      print(i)\n",
        "s = input(\"Enter\")\n",
        "even(s)"
      ],
      "metadata": {
        "id": "K2cMp27ya2ED"
      },
      "execution_count": null,
      "outputs": []
    },
    {
      "cell_type": "code",
      "source": [
        "#write a python program to capatilize the first letter and last letter of each word\n",
        "#write a program to read a string from user display first character of each word with capital letter\n",
        "a = str(input(\"enter\"))\n",
        "b = a.split()\n",
        "s= ''\n",
        "for i in b:\n",
        "  x=i.capitalize()\n",
        "  c=i[-1].capitalize()\n",
        "  s=x[0:-1]+c\n",
        "  print(s,end=\" \")\n",
        "\n"
      ],
      "metadata": {
        "colab": {
          "base_uri": "https://localhost:8080/"
        },
        "id": "LB17M8nBbHU1",
        "outputId": "e5022843-e649-4e74-c4be-007568498990"
      },
      "execution_count": null,
      "outputs": [
        {
          "output_type": "stream",
          "name": "stdout",
          "text": [
            "enterhello wor;d\n",
            "HellO Wor;D "
          ]
        }
      ]
    },
    {
      "cell_type": "code",
      "source": [
        "#write a program to read a string from user display first character of each word with capital letter\n",
        "a = str(input(\"enter\"))\n",
        "b= a.split(\" \")\n",
        "for i in b:\n",
        "  s = s.capitalize()\n",
        "  print(s)"
      ],
      "metadata": {
        "id": "H3cxgkryrQU6"
      },
      "execution_count": null,
      "outputs": []
    },
    {
      "cell_type": "code",
      "source": [
        "#write a python program to convert to list of mulitple integers into single integer\n",
        "a = eval(input(\"enter\"))\n",
        "b=\"\"\n",
        "for i in a:\n",
        "  b=str(i)\n",
        "print(b)"
      ],
      "metadata": {
        "id": "uIGynsJUb2Dc"
      },
      "execution_count": null,
      "outputs": []
    },
    {
      "cell_type": "code",
      "source": [
        "def prime(a,b):\n",
        "  for i in range(a,b+1):\n",
        "    k=0\n",
        "    for j in range(2,i):\n",
        "      if i%j==0:\n",
        "        k+=1\n",
        "      if k==0:\n",
        "        print(i)\n",
        "\n",
        "l = int(input(\"enter\"))\n",
        "m = int(input(\"enter\"))\n",
        "prime(l,m)"
      ],
      "metadata": {
        "id": "j3xkD85lclrV"
      },
      "execution_count": null,
      "outputs": []
    }
  ]
}